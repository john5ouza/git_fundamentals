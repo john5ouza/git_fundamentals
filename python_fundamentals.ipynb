{
  "nbformat": 4,
  "nbformat_minor": 0,
  "metadata": {
    "colab": {
      "provenance": []
    },
    "kernelspec": {
      "name": "python3",
      "display_name": "Python 3"
    },
    "language_info": {
      "name": "python"
    }
  },
  "cells": [
    {
      "cell_type": "code",
      "execution_count": null,
      "metadata": {
        "colab": {
          "base_uri": "https://localhost:8080/"
        },
        "id": "trDp74UX5Opu",
        "outputId": "6f046d25-df66-4b4a-8662-8656cbb36057"
      },
      "outputs": [
        {
          "output_type": "stream",
          "name": "stdout",
          "text": [
            "hello, john!\n"
          ]
        }
      ],
      "source": [
        "print(\"hello, john!\")"
      ]
    }
  ]
}